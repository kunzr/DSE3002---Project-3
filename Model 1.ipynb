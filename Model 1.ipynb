{
 "cells": [
  {
   "cell_type": "code",
   "execution_count": 153,
   "metadata": {},
   "outputs": [],
   "source": [
    "import numpy as np\n",
    "import pandas as pd\n",
    "import matplotlib.pyplot as plt\n",
    "import seaborn as sb\n",
    "from sklearn.model_selection import train_test_split\n",
    "from sklearn import metrics\n",
    "from sklearn.svm import SVC\n",
    "from sklearn.tree import DecisionTreeClassifier\n",
    "from sklearn.metrics import confusion_matrix, ConfusionMatrixDisplay, accuracy_score\n",
    "from sklearn.preprocessing import MinMaxScaler\n",
    "from sklearn.cluster import KMeans\n",
    "\n",
    "import warnings\n",
    "warnings.filterwarnings('ignore')"
   ]
  },
  {
   "cell_type": "code",
   "execution_count": 154,
   "metadata": {},
   "outputs": [],
   "source": [
    "tree = pd.read_csv('tree1.csv')\n",
    "tree = tree.dropna()"
   ]
  },
  {
   "cell_type": "code",
   "execution_count": 155,
   "metadata": {},
   "outputs": [
    {
     "data": {
      "text/html": [
       "<div>\n",
       "<style scoped>\n",
       "    .dataframe tbody tr th:only-of-type {\n",
       "        vertical-align: middle;\n",
       "    }\n",
       "\n",
       "    .dataframe tbody tr th {\n",
       "        vertical-align: top;\n",
       "    }\n",
       "\n",
       "    .dataframe thead th {\n",
       "        text-align: right;\n",
       "    }\n",
       "</style>\n",
       "<table border=\"1\" class=\"dataframe\">\n",
       "  <thead>\n",
       "    <tr style=\"text-align: right;\">\n",
       "      <th></th>\n",
       "      <th>Unnamed: 0.1</th>\n",
       "      <th>Unnamed: 0</th>\n",
       "      <th>Plot</th>\n",
       "      <th>Subplot</th>\n",
       "      <th>Species</th>\n",
       "      <th>Light_ISF</th>\n",
       "      <th>Light_Cat</th>\n",
       "      <th>Core</th>\n",
       "      <th>Soil</th>\n",
       "      <th>Sterile</th>\n",
       "      <th>...</th>\n",
       "      <th>AMF</th>\n",
       "      <th>EMF</th>\n",
       "      <th>Phenolics</th>\n",
       "      <th>Lignin</th>\n",
       "      <th>NSC</th>\n",
       "      <th>Census</th>\n",
       "      <th>Time</th>\n",
       "      <th>Event</th>\n",
       "      <th>Harvest</th>\n",
       "      <th>Season</th>\n",
       "    </tr>\n",
       "    <tr>\n",
       "      <th>Alive</th>\n",
       "      <th></th>\n",
       "      <th></th>\n",
       "      <th></th>\n",
       "      <th></th>\n",
       "      <th></th>\n",
       "      <th></th>\n",
       "      <th></th>\n",
       "      <th></th>\n",
       "      <th></th>\n",
       "      <th></th>\n",
       "      <th></th>\n",
       "      <th></th>\n",
       "      <th></th>\n",
       "      <th></th>\n",
       "      <th></th>\n",
       "      <th></th>\n",
       "      <th></th>\n",
       "      <th></th>\n",
       "      <th></th>\n",
       "      <th></th>\n",
       "      <th></th>\n",
       "    </tr>\n",
       "  </thead>\n",
       "  <tbody>\n",
       "    <tr>\n",
       "      <th>0</th>\n",
       "      <td>1396.767249</td>\n",
       "      <td>1396.767249</td>\n",
       "      <td>9.596943</td>\n",
       "      <td>2.574236</td>\n",
       "      <td>2.483406</td>\n",
       "      <td>0.085155</td>\n",
       "      <td>1.736681</td>\n",
       "      <td>2016.634061</td>\n",
       "      <td>4.016157</td>\n",
       "      <td>0.151528</td>\n",
       "      <td>...</td>\n",
       "      <td>21.031096</td>\n",
       "      <td>26.862758</td>\n",
       "      <td>1.515310</td>\n",
       "      <td>14.619057</td>\n",
       "      <td>13.406022</td>\n",
       "      <td>11.480349</td>\n",
       "      <td>40.181223</td>\n",
       "      <td>0.692576</td>\n",
       "      <td>0.307424</td>\n",
       "      <td>1.624454</td>\n",
       "    </tr>\n",
       "    <tr>\n",
       "      <th>1</th>\n",
       "      <td>1364.103870</td>\n",
       "      <td>1364.103870</td>\n",
       "      <td>9.397149</td>\n",
       "      <td>2.570265</td>\n",
       "      <td>2.511202</td>\n",
       "      <td>0.088088</td>\n",
       "      <td>1.798371</td>\n",
       "      <td>2016.716904</td>\n",
       "      <td>3.808554</td>\n",
       "      <td>0.152749</td>\n",
       "      <td>...</td>\n",
       "      <td>18.327882</td>\n",
       "      <td>27.355211</td>\n",
       "      <td>3.881976</td>\n",
       "      <td>21.076619</td>\n",
       "      <td>18.003992</td>\n",
       "      <td>33.000000</td>\n",
       "      <td>115.500000</td>\n",
       "      <td>0.000000</td>\n",
       "      <td>0.000000</td>\n",
       "      <td>1.083503</td>\n",
       "    </tr>\n",
       "  </tbody>\n",
       "</table>\n",
       "<p>2 rows × 23 columns</p>\n",
       "</div>"
      ],
      "text/plain": [
       "       Unnamed: 0.1   Unnamed: 0      Plot   Subplot   Species  Light_ISF  \\\n",
       "Alive                                                                       \n",
       "0       1396.767249  1396.767249  9.596943  2.574236  2.483406   0.085155   \n",
       "1       1364.103870  1364.103870  9.397149  2.570265  2.511202   0.088088   \n",
       "\n",
       "       Light_Cat         Core      Soil   Sterile  ...        AMF        EMF  \\\n",
       "Alive                                              ...                         \n",
       "0       1.736681  2016.634061  4.016157  0.151528  ...  21.031096  26.862758   \n",
       "1       1.798371  2016.716904  3.808554  0.152749  ...  18.327882  27.355211   \n",
       "\n",
       "       Phenolics     Lignin        NSC     Census        Time     Event  \\\n",
       "Alive                                                                     \n",
       "0       1.515310  14.619057  13.406022  11.480349   40.181223  0.692576   \n",
       "1       3.881976  21.076619  18.003992  33.000000  115.500000  0.000000   \n",
       "\n",
       "        Harvest    Season  \n",
       "Alive                      \n",
       "0      0.307424  1.624454  \n",
       "1      0.000000  1.083503  \n",
       "\n",
       "[2 rows x 23 columns]"
      ]
     },
     "execution_count": 155,
     "metadata": {},
     "output_type": "execute_result"
    }
   ],
   "source": [
    "X = tree.iloc[:, 0:23]\n",
    "y = tree.iloc[:, -1]\n",
    "y_label = y.values\n",
    "\n",
    "columns_list = X.columns.tolist()\n",
    "tree = pd.DataFrame(X, columns = columns_list)\n",
    "tree['Alive'] = y_label\n",
    "tree.groupby('Alive').mean() "
   ]
  },
  {
   "cell_type": "code",
   "execution_count": 156,
   "metadata": {},
   "outputs": [],
   "source": [
    "segment1 = tree[tree['Lignin'] <= 15]\n",
    "segment2 = tree[tree['Lignin'] > 15]\n",
    "fulldata = tree\n",
    "mms = MinMaxScaler()"
   ]
  },
  {
   "cell_type": "code",
   "execution_count": 157,
   "metadata": {},
   "outputs": [
    {
     "name": "stdout",
     "output_type": "stream",
     "text": [
      "       Unnamed: 0.1  Unnamed: 0  Plot  Subplot  Species  Light_ISF  Light_Cat  \\\n",
      "Alive                                                                           \n",
      "0              2290        2290  2290     2290     2290       2290       2290   \n",
      "1               491         491   491      491      491        491        491   \n",
      "\n",
      "       Core  Soil  Sterile  ...   AMF   EMF  Phenolics  Lignin   NSC  Census  \\\n",
      "Alive                       ...                                                \n",
      "0      2290  2290     2290  ...  2290  2290       2290    2290  2290    2290   \n",
      "1       491   491      491  ...   491   491        491     491   491     491   \n",
      "\n",
      "       Time  Event  Harvest  Season  \n",
      "Alive                                \n",
      "0      2290   2290     2290    2290  \n",
      "1       491    491      491     491  \n",
      "\n",
      "[2 rows x 23 columns]\n"
     ]
    }
   ],
   "source": [
    "#Full model\n",
    "X_full = fulldata.iloc[:, 0:23] \n",
    "y_full = fulldata.iloc[:, -1]\n",
    "X_full = mms.fit_transform(X_full)\n",
    "X_full_train, X_full_test, y_full_train, y_full_test = train_test_split(X_full, \n",
    "                                                                        y_full, \n",
    "                                                                        train_size = 0.5, \n",
    "                                                                        stratify = y_full, \n",
    "                                                                        random_state = 0)\n",
    "print(fulldata.groupby('Alive').count())"
   ]
  },
  {
   "cell_type": "code",
   "execution_count": 158,
   "metadata": {},
   "outputs": [
    {
     "name": "stdout",
     "output_type": "stream",
     "text": [
      "0.9992810927390366\n"
     ]
    },
    {
     "data": {
      "text/plain": [
       "[Text(0.5, 0, 'Predicted'), Text(0, 0.5, 'True')]"
      ]
     },
     "execution_count": 158,
     "metadata": {},
     "output_type": "execute_result"
    },
    {
     "data": {
      "image/png": "[encoded data removed]",
      "text/plain": [
       "<Figure size 640x480 with 2 Axes>"
      ]
     },
     "metadata": {},
     "output_type": "display_data"
    }
   ],
   "source": [
    "#Full model Tree\n",
    "clf = DecisionTreeClassifier(max_depth = 4)\n",
    "clf.fit(X_full_train, y_full_train)\n",
    "y_pred_full =clf.predict(X_full_test)\n",
    "\n",
    "print(accuracy_score(y_full_test,y_pred_full))\n",
    "cf_matrix = confusion_matrix(y_full_test,y_pred_full)\n",
    "cmd = ConfusionMatrixDisplay(cf_matrix, display_labels = ['Alive', 'Dead'])\n",
    "cmd.plot()\n",
    "cmd.ax_.set(xlabel = 'Predicted', ylabel = 'True')"
   ]
  },
  {
   "cell_type": "code",
   "execution_count": 159,
   "metadata": {},
   "outputs": [
    {
     "name": "stdout",
     "output_type": "stream",
     "text": [
      "       Unnamed: 0.1  Unnamed: 0  Plot  Subplot  Species  Light_ISF  Light_Cat  \\\n",
      "Alive                                                                           \n",
      "0              1475        1475  1475     1475     1475       1475       1475   \n",
      "1                21          21    21       21       21         21         21   \n",
      "\n",
      "       Core  Soil  Sterile  ...   AMF   EMF  Phenolics  Lignin   NSC  Census  \\\n",
      "Alive                       ...                                                \n",
      "0      1475  1475     1475  ...  1475  1475       1475    1475  1475    1475   \n",
      "1        21    21       21  ...    21    21         21      21    21      21   \n",
      "\n",
      "       Time  Event  Harvest  Season  \n",
      "Alive                                \n",
      "0      1475   1475     1475    1475  \n",
      "1        21     21       21      21  \n",
      "\n",
      "[2 rows x 23 columns]\n"
     ]
    }
   ],
   "source": [
    "#Segment 1 model: low light ISF\n",
    "X_low = segment1.iloc[:, 0:23] \n",
    "y_low = segment1.iloc[:, -1]\n",
    "X_low = mms.fit_transform(X_low)\n",
    "X_low_train, X_low_test, y_low_train, y_low_test = train_test_split(X_low,\n",
    "                                                                    y_low,\n",
    "                                                                    train_size = 0.5,\n",
    "                                                                    stratify = y_low, \n",
    "                                                                    random_state = 0)\n",
    "print(segment1.groupby('Alive').count())"
   ]
  },
  {
   "cell_type": "code",
   "execution_count": 160,
   "metadata": {},
   "outputs": [
    {
     "name": "stdout",
     "output_type": "stream",
     "text": [
      "0.9986631016042781\n"
     ]
    },
    {
     "data": {
      "text/plain": [
       "[Text(0.5, 0, 'Predicted'), Text(0, 0.5, 'True')]"
      ]
     },
     "execution_count": 160,
     "metadata": {},
     "output_type": "execute_result"
    },
    {
     "data": {
      "image/png": "[encoded data removed]",
      "text/plain": [
       "<Figure size 640x480 with 2 Axes>"
      ]
     },
     "metadata": {},
     "output_type": "display_data"
    }
   ],
   "source": [
    "#Segment 1 model tree\n",
    "clf = DecisionTreeClassifier(max_depth = 4)\n",
    "clf.fit(X_low_train, y_low_train)\n",
    "y_pred_low = clf.predict(X_low_test)\n",
    "\n",
    "print(accuracy_score(y_low_test,y_pred_low))\n",
    "cf_matrix = confusion_matrix(y_low_test,y_pred_low)\n",
    "cmd = ConfusionMatrixDisplay(cf_matrix, display_labels = ['Alive', 'Dead'])\n",
    "cmd.plot()\n",
    "cmd.ax_.set(xlabel = 'Predicted', ylabel = 'True')"
   ]
  },
  {
   "cell_type": "code",
   "execution_count": 161,
   "metadata": {},
   "outputs": [
    {
     "name": "stdout",
     "output_type": "stream",
     "text": [
      "       Unnamed: 0.1  Unnamed: 0  Plot  Subplot  Species  Light_ISF  Light_Cat  \\\n",
      "Alive                                                                           \n",
      "0               815         815   815      815      815        815        815   \n",
      "1               470         470   470      470      470        470        470   \n",
      "\n",
      "       Core  Soil  Sterile  ...  AMF  EMF  Phenolics  Lignin  NSC  Census  \\\n",
      "Alive                       ...                                             \n",
      "0       815   815      815  ...  815  815        815     815  815     815   \n",
      "1       470   470      470  ...  470  470        470     470  470     470   \n",
      "\n",
      "       Time  Event  Harvest  Season  \n",
      "Alive                                \n",
      "0       815    815      815     815  \n",
      "1       470    470      470     470  \n",
      "\n",
      "[2 rows x 23 columns]\n"
     ]
    }
   ],
   "source": [
    "#Segment 2 model: higher light ISF\n",
    "X_high = segment2.iloc[:, 0:23] \n",
    "y_high = segment2.iloc[:, -1]\n",
    "X_high = mms.fit_transform(X_high)\n",
    "X_high_train, X_high_test, y_high_train, y_high_test = train_test_split(X_high,\n",
    "                                                                        y_high,\n",
    "                                                                        train_size = 0.5,\n",
    "                                                                        stratify = y_high,\n",
    "                                                                        random_state = 0)\n",
    "print(segment2.groupby('Alive').count())"
   ]
  },
  {
   "cell_type": "code",
   "execution_count": 162,
   "metadata": {},
   "outputs": [
    {
     "name": "stdout",
     "output_type": "stream",
     "text": [
      "1.0\n"
     ]
    },
    {
     "data": {
      "text/plain": [
       "[Text(0.5, 0, 'Predicted'), Text(0, 0.5, 'True')]"
      ]
     },
     "execution_count": 162,
     "metadata": {},
     "output_type": "execute_result"
    },
    {
     "data": {
      "image/png": "[encoded data removed]",
      "text/plain": [
       "<Figure size 640x480 with 2 Axes>"
      ]
     },
     "metadata": {},
     "output_type": "display_data"
    }
   ],
   "source": [
    "#Segment 2 model Tree\n",
    "clf = DecisionTreeClassifier(max_depth = 4)\n",
    "clf.fit(X_high_train, y_high_train)\n",
    "y_pred_high = clf.predict(X_high_test)\n",
    "\n",
    "print(accuracy_score(y_high_test,y_pred_high))\n",
    "cf_matrix = confusion_matrix(y_high_test,y_pred_high)\n",
    "cmd = ConfusionMatrixDisplay(cf_matrix, display_labels = ['Alive', 'Dead'])\n",
    "cmd.plot()\n",
    "cmd.ax_.set(xlabel = 'Predicted', ylabel = 'True')"
   ]
  },
  {
   "cell_type": "code",
   "execution_count": 163,
   "metadata": {},
   "outputs": [
    {
     "name": "stdout",
     "output_type": "stream",
     "text": [
      "         Unnamed: 0.1   Unnamed: 0       Plot   Subplot   Species  Light_ISF  \\\n",
      "Cluster                                                                        \n",
      "0          462.500000   462.500000   5.571429  2.594156  2.351732   0.081597   \n",
      "1         2316.001074  2316.001074  11.705693  2.511278  2.417830   0.091798   \n",
      "2         1387.500000  1387.500000  11.387689  2.615551  2.695464   0.083580   \n",
      "\n",
      "         Light_Cat         Core      Soil   Sterile  ...        EMF  \\\n",
      "Cluster                                              ...              \n",
      "0         1.677489  2016.630952  4.059524  0.180736  ...  25.388820   \n",
      "1         1.882922  2016.645542  4.000000  0.124597  ...  28.732718   \n",
      "2         1.681425  2016.669546  3.879050  0.150108  ...  26.714573   \n",
      "\n",
      "         Phenolics     Lignin        NSC     Census       Time     Event  \\\n",
      "Cluster                                                                    \n",
      "0         2.450920  18.037706  14.947035  14.515152  50.803030  0.365801   \n",
      "1         1.477766  14.172578  13.899946  17.905478  62.669173  0.809882   \n",
      "2         1.874363  15.080724  13.809762  13.402808  46.909827  0.533477   \n",
      "\n",
      "          Harvest    Season     Alive  \n",
      "Cluster                                \n",
      "0        0.427489  1.372294  0.206710  \n",
      "1        0.000000  1.670247  0.190118  \n",
      "2        0.333693  1.543197  0.132829  \n",
      "\n",
      "[3 rows x 24 columns]\n"
     ]
    }
   ],
   "source": [
    "X_full = fulldata.iloc[:, 0:23] \n",
    "clf = KMeans(n_clusters = 3)\n",
    "clf.fit(X_full)\n",
    "labels = clf.predict(X_full)\n",
    "\n",
    "tree['Cluster'] = labels\n",
    "\n",
    "segment1_clust = tree[tree['Cluster'] == 0]\n",
    "segment2_clust = tree[tree['Cluster'] == 1]\n",
    "segment3_clust = tree[tree['Cluster'] == 2]\n",
    "fulldata = tree\n",
    "print(tree.groupby('Cluster').mean())"
   ]
  }
 ],
 "metadata": {
  "kernelspec": {
   "display_name": "Python 3",
   "language": "python",
   "name": "python3"
  },
  "language_info": {
   "codemirror_mode": {
    "name": "ipython",
    "version": 3
   },
   "file_extension": ".py",
   "mimetype": "text/x-python",
   "name": "python",
   "nbconvert_exporter": "python",
   "pygments_lexer": "ipython3",
   "version": "3.12.1"
  }
 },
 "nbformat": 4,
 "nbformat_minor": 2
}
